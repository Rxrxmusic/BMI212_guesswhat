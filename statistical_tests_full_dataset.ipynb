{
 "cells": [
  {
   "cell_type": "markdown",
   "id": "612bea4d-e365-44c4-ba1e-f062b21bbb84",
   "metadata": {},
   "source": [
    "### GENDER ANALYSIS ###"
   ]
  },
  {
   "cell_type": "code",
   "execution_count": 1,
   "id": "2b41630a-ca59-4dc5-9f96-076cc2094896",
   "metadata": {},
   "outputs": [],
   "source": [
    "import pandas as pd"
   ]
  },
  {
   "cell_type": "code",
   "execution_count": 2,
   "id": "87a3bd7b-d275-42bd-9cf5-ca0528a3dc31",
   "metadata": {},
   "outputs": [
    {
     "data": {
      "text/html": [
       "<div>\n",
       "<style scoped>\n",
       "    .dataframe tbody tr th:only-of-type {\n",
       "        vertical-align: middle;\n",
       "    }\n",
       "\n",
       "    .dataframe tbody tr th {\n",
       "        vertical-align: top;\n",
       "    }\n",
       "\n",
       "    .dataframe thead th {\n",
       "        text-align: right;\n",
       "    }\n",
       "</style>\n",
       "<table border=\"1\" class=\"dataframe\">\n",
       "  <thead>\n",
       "    <tr style=\"text-align: right;\">\n",
       "      <th></th>\n",
       "      <th>Unnamed: 0</th>\n",
       "      <th>Path</th>\n",
       "      <th>child_id</th>\n",
       "      <th>ASD</th>\n",
       "      <th>age</th>\n",
       "      <th>gender</th>\n",
       "    </tr>\n",
       "  </thead>\n",
       "  <tbody>\n",
       "    <tr>\n",
       "      <th>0</th>\n",
       "      <td>0</td>\n",
       "      <td>%2B07758486393/1637011476385/GuessWhat.mp4</td>\n",
       "      <td>+07758486393__daisy</td>\n",
       "      <td>1</td>\n",
       "      <td>0.0</td>\n",
       "      <td>Female</td>\n",
       "    </tr>\n",
       "    <tr>\n",
       "      <th>1</th>\n",
       "      <td>1</td>\n",
       "      <td>%2B07758486393/1637011774510/GuessWhat.mp4</td>\n",
       "      <td>+07758486393__daisy</td>\n",
       "      <td>1</td>\n",
       "      <td>0.0</td>\n",
       "      <td>Female</td>\n",
       "    </tr>\n",
       "    <tr>\n",
       "      <th>2</th>\n",
       "      <td>2</td>\n",
       "      <td>%2B07758486393/1637011884828/GuessWhat.mp4</td>\n",
       "      <td>+07758486393__daisy</td>\n",
       "      <td>1</td>\n",
       "      <td>0.0</td>\n",
       "      <td>Female</td>\n",
       "    </tr>\n",
       "    <tr>\n",
       "      <th>3</th>\n",
       "      <td>3</td>\n",
       "      <td>%2B07766544436/1626976603665/GuessWhat.mp4</td>\n",
       "      <td>+07766544436__andrew</td>\n",
       "      <td>1</td>\n",
       "      <td>11.0</td>\n",
       "      <td>Male</td>\n",
       "    </tr>\n",
       "    <tr>\n",
       "      <th>4</th>\n",
       "      <td>4</td>\n",
       "      <td>%2B07766544436/1626976728265/GuessWhat.mp4</td>\n",
       "      <td>+07766544436__andrew</td>\n",
       "      <td>1</td>\n",
       "      <td>11.0</td>\n",
       "      <td>Male</td>\n",
       "    </tr>\n",
       "  </tbody>\n",
       "</table>\n",
       "</div>"
      ],
      "text/plain": [
       "   Unnamed: 0                                        Path  \\\n",
       "0           0  %2B07758486393/1637011476385/GuessWhat.mp4   \n",
       "1           1  %2B07758486393/1637011774510/GuessWhat.mp4   \n",
       "2           2  %2B07758486393/1637011884828/GuessWhat.mp4   \n",
       "3           3  %2B07766544436/1626976603665/GuessWhat.mp4   \n",
       "4           4  %2B07766544436/1626976728265/GuessWhat.mp4   \n",
       "\n",
       "               child_id  ASD   age  gender  \n",
       "0  +07758486393__daisy     1   0.0  Female  \n",
       "1  +07758486393__daisy     1   0.0  Female  \n",
       "2  +07758486393__daisy     1   0.0  Female  \n",
       "3  +07766544436__andrew    1  11.0    Male  \n",
       "4  +07766544436__andrew    1  11.0    Male  "
      ]
     },
     "execution_count": 2,
     "metadata": {},
     "output_type": "execute_result"
    }
   ],
   "source": [
    "df = pd.read_csv('dataset_1_clean.csv')\n",
    "df.rename(columns={'video_key': 'Path'}, inplace=True)\n",
    "df.head()"
   ]
  },
  {
   "cell_type": "code",
   "execution_count": 4,
   "id": "6babca78-1096-4750-9113-1e041c3b7695",
   "metadata": {},
   "outputs": [
    {
     "name": "stdout",
     "output_type": "stream",
     "text": [
      "   gender  count\n",
      "0  Female    775\n",
      "1    Male   2277\n",
      "2   Other      5\n"
     ]
    }
   ],
   "source": [
    "import numpy as np\n",
    "\n",
    "# Functions to calculate metrics\n",
    "def calculate_metrics(df):\n",
    "    metrics = {}\n",
    "    count = len(df)\n",
    "    metrics['count'] = count\n",
    "    return pd.Series(metrics)\n",
    "\n",
    "# Calculate metrics for each gender\n",
    "metrics_by_gender = df.groupby('gender').apply(calculate_metrics).reset_index()\n",
    "\n",
    "print(metrics_by_gender)\n"
   ]
  },
  {
   "cell_type": "code",
   "execution_count": 5,
   "id": "fdb7d947-8d12-4bb2-9ee1-96199298d339",
   "metadata": {},
   "outputs": [],
   "source": [
    "metrics_by_gender.to_csv('results/full_dataset_by_gender.csv', index=False) "
   ]
  },
  {
   "cell_type": "code",
   "execution_count": 6,
   "id": "42f03c18-1250-44ab-8ec4-dbacfa2ae30f",
   "metadata": {},
   "outputs": [
    {
     "data": {
      "image/png": "[encoded data removed]",
      "text/plain": [
       "<Figure size 640x480 with 1 Axes>"
      ]
     },
     "metadata": {},
     "output_type": "display_data"
    }
   ],
   "source": [
    "import matplotlib.pyplot as plt\n",
    "\n",
    "# Plotting function\n",
    "def plot_metrics(metrics_df, metric_name):\n",
    "    metrics_df.set_index('gender')[metric_name].plot(kind='bar', color=['blue', 'orange'])\n",
    "    plt.ylabel(metric_name)\n",
    "    plt.title(f'{metric_name} by Gender')\n",
    "    plt.xticks(rotation=0)\n",
    "    plt.savefig(f'results/full_dataset_{metric_name}_by_gender.png')\n",
    "    plt.show()\n",
    "\n",
    "# Plot all metrics\n",
    "metrics_list = ['count']\n",
    "\n",
    "for metric in metrics_list:\n",
    "    plot_metrics(metrics_by_gender, metric)\n"
   ]
  },
  {
   "cell_type": "markdown",
   "id": "5b535a5d-2357-4ce1-8233-7511af55486c",
   "metadata": {},
   "source": [
    "### AGE ANALYSIS ###"
   ]
  },
  {
   "cell_type": "code",
   "execution_count": 7,
   "id": "b3fd5f22-e055-4f61-be10-bb51466c042a",
   "metadata": {},
   "outputs": [
    {
     "data": {
      "text/html": [
       "<div>\n",
       "<style scoped>\n",
       "    .dataframe tbody tr th:only-of-type {\n",
       "        vertical-align: middle;\n",
       "    }\n",
       "\n",
       "    .dataframe tbody tr th {\n",
       "        vertical-align: top;\n",
       "    }\n",
       "\n",
       "    .dataframe thead th {\n",
       "        text-align: right;\n",
       "    }\n",
       "</style>\n",
       "<table border=\"1\" class=\"dataframe\">\n",
       "  <thead>\n",
       "    <tr style=\"text-align: right;\">\n",
       "      <th></th>\n",
       "      <th>Unnamed: 0</th>\n",
       "      <th>Path</th>\n",
       "      <th>child_id</th>\n",
       "      <th>ASD</th>\n",
       "      <th>age</th>\n",
       "      <th>gender</th>\n",
       "      <th>Age Bucket</th>\n",
       "    </tr>\n",
       "  </thead>\n",
       "  <tbody>\n",
       "    <tr>\n",
       "      <th>0</th>\n",
       "      <td>0</td>\n",
       "      <td>%2B07758486393/1637011476385/GuessWhat.mp4</td>\n",
       "      <td>+07758486393__daisy</td>\n",
       "      <td>1</td>\n",
       "      <td>0.0</td>\n",
       "      <td>Female</td>\n",
       "      <td>0-3</td>\n",
       "    </tr>\n",
       "    <tr>\n",
       "      <th>1</th>\n",
       "      <td>1</td>\n",
       "      <td>%2B07758486393/1637011774510/GuessWhat.mp4</td>\n",
       "      <td>+07758486393__daisy</td>\n",
       "      <td>1</td>\n",
       "      <td>0.0</td>\n",
       "      <td>Female</td>\n",
       "      <td>0-3</td>\n",
       "    </tr>\n",
       "    <tr>\n",
       "      <th>2</th>\n",
       "      <td>2</td>\n",
       "      <td>%2B07758486393/1637011884828/GuessWhat.mp4</td>\n",
       "      <td>+07758486393__daisy</td>\n",
       "      <td>1</td>\n",
       "      <td>0.0</td>\n",
       "      <td>Female</td>\n",
       "      <td>0-3</td>\n",
       "    </tr>\n",
       "    <tr>\n",
       "      <th>3</th>\n",
       "      <td>3</td>\n",
       "      <td>%2B07766544436/1626976603665/GuessWhat.mp4</td>\n",
       "      <td>+07766544436__andrew</td>\n",
       "      <td>1</td>\n",
       "      <td>11.0</td>\n",
       "      <td>Male</td>\n",
       "      <td>9+</td>\n",
       "    </tr>\n",
       "    <tr>\n",
       "      <th>4</th>\n",
       "      <td>4</td>\n",
       "      <td>%2B07766544436/1626976728265/GuessWhat.mp4</td>\n",
       "      <td>+07766544436__andrew</td>\n",
       "      <td>1</td>\n",
       "      <td>11.0</td>\n",
       "      <td>Male</td>\n",
       "      <td>9+</td>\n",
       "    </tr>\n",
       "  </tbody>\n",
       "</table>\n",
       "</div>"
      ],
      "text/plain": [
       "   Unnamed: 0                                        Path  \\\n",
       "0           0  %2B07758486393/1637011476385/GuessWhat.mp4   \n",
       "1           1  %2B07758486393/1637011774510/GuessWhat.mp4   \n",
       "2           2  %2B07758486393/1637011884828/GuessWhat.mp4   \n",
       "3           3  %2B07766544436/1626976603665/GuessWhat.mp4   \n",
       "4           4  %2B07766544436/1626976728265/GuessWhat.mp4   \n",
       "\n",
       "               child_id  ASD   age  gender Age Bucket  \n",
       "0  +07758486393__daisy     1   0.0  Female        0-3  \n",
       "1  +07758486393__daisy     1   0.0  Female        0-3  \n",
       "2  +07758486393__daisy     1   0.0  Female        0-3  \n",
       "3  +07766544436__andrew    1  11.0    Male         9+  \n",
       "4  +07766544436__andrew    1  11.0    Male         9+  "
      ]
     },
     "execution_count": 7,
     "metadata": {},
     "output_type": "execute_result"
    }
   ],
   "source": [
    "# Define age buckets\n",
    "bins = [0, 3, 6, 9, float('inf')]\n",
    "labels = ['0-3', '4-6', '7-9', '9+']\n",
    "df['Age Bucket'] = pd.cut(df['age'], bins=bins, labels=labels, right=False)\n",
    "df.head()"
   ]
  },
  {
   "cell_type": "code",
   "execution_count": 8,
   "id": "5263f5c7-6490-40de-b43e-b73f0b9e9666",
   "metadata": {},
   "outputs": [
    {
     "name": "stdout",
     "output_type": "stream",
     "text": [
      "  Age Bucket  count\n",
      "0        0-3    946\n",
      "1        4-6    949\n",
      "2        7-9    598\n",
      "3         9+    624\n"
     ]
    }
   ],
   "source": [
    "metrics_by_age_bucket = df.groupby('Age Bucket').apply(calculate_metrics).reset_index()\n",
    "print(metrics_by_age_bucket)"
   ]
  },
  {
   "cell_type": "code",
   "execution_count": 9,
   "id": "b82eec75-c0a2-49e3-8123-2763c629bf20",
   "metadata": {},
   "outputs": [],
   "source": [
    "metrics_by_age_bucket.to_csv('results/full_dataset_by_age.csv', index=False) "
   ]
  },
  {
   "cell_type": "code",
   "execution_count": 10,
   "id": "fe02f775-625c-4a5c-a187-84cb75ada203",
   "metadata": {},
   "outputs": [
    {
     "data": {
      "image/png": "[encoded data removed]",
      "text/plain": [
       "<Figure size 640x480 with 1 Axes>"
      ]
     },
     "metadata": {},
     "output_type": "display_data"
    }
   ],
   "source": [
    "# Plotting function\n",
    "def plot_metrics(metrics_df, metric_name):\n",
    "    metrics_df.set_index('Age Bucket')[metric_name].plot(kind='bar', color=['blue', 'orange'])\n",
    "    plt.ylabel(metric_name)\n",
    "    plt.title(f'{metric_name} by Age')\n",
    "    plt.xticks(rotation=0)\n",
    "    plt.savefig(f'results/full_dataset_{metric_name}_by_age.png')\n",
    "    plt.show()\n",
    "\n",
    "metrics_list = ['count']\n",
    "\n",
    "for metric in metrics_list:\n",
    "    plot_metrics(metrics_by_age_bucket, metric)"
   ]
  },
  {
   "cell_type": "code",
   "execution_count": null,
   "id": "2fd5af0e-f533-4b4c-a98d-09df17b90747",
   "metadata": {},
   "outputs": [],
   "source": []
  }
 ],
 "metadata": {
  "kernelspec": {
   "display_name": "Python 3 (ipykernel)",
   "language": "python",
   "name": "python3"
  },
  "language_info": {
   "codemirror_mode": {
    "name": "ipython",
    "version": 3
   },
   "file_extension": ".py",
   "mimetype": "text/x-python",
   "name": "python",
   "nbconvert_exporter": "python",
   "pygments_lexer": "ipython3",
   "version": "3.8.19"
  }
 },
 "nbformat": 4,
 "nbformat_minor": 5
}
